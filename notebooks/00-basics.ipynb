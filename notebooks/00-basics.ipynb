{
 "cells": [
  {
   "cell_type": "code",
   "execution_count": 1,
   "metadata": {},
   "outputs": [
    {
     "data": {
      "text/html": [
       "<div>\n",
       "<style scoped>\n",
       "    .dataframe tbody tr th:only-of-type {\n",
       "        vertical-align: middle;\n",
       "    }\n",
       "\n",
       "    .dataframe tbody tr th {\n",
       "        vertical-align: top;\n",
       "    }\n",
       "\n",
       "    .dataframe thead th {\n",
       "        text-align: right;\n",
       "    }\n",
       "</style>\n",
       "<table border=\"1\" class=\"dataframe\">\n",
       "  <thead>\n",
       "    <tr style=\"text-align: right;\">\n",
       "      <th></th>\n",
       "      <th>altM</th>\n",
       "      <th>bat</th>\n",
       "      <th>bpos</th>\n",
       "      <th>c0S/m</th>\n",
       "      <th>dz/dtM</th>\n",
       "      <th>wetCDOM</th>\n",
       "      <th>latitude</th>\n",
       "      <th>longitude</th>\n",
       "      <th>sbeox0Mm/Kg</th>\n",
       "      <th>sbeox1Mm/Kg</th>\n",
       "      <th>...</th>\n",
       "      <th>tsa</th>\n",
       "      <th>timeS</th>\n",
       "      <th>v0</th>\n",
       "      <th>v1</th>\n",
       "      <th>v2</th>\n",
       "      <th>v3</th>\n",
       "      <th>v4</th>\n",
       "      <th>v5</th>\n",
       "      <th>sbeox0V</th>\n",
       "      <th>flag</th>\n",
       "    </tr>\n",
       "    <tr>\n",
       "      <th>Pressure [dbar]</th>\n",
       "      <th></th>\n",
       "      <th></th>\n",
       "      <th></th>\n",
       "      <th></th>\n",
       "      <th></th>\n",
       "      <th></th>\n",
       "      <th></th>\n",
       "      <th></th>\n",
       "      <th></th>\n",
       "      <th></th>\n",
       "      <th></th>\n",
       "      <th></th>\n",
       "      <th></th>\n",
       "      <th></th>\n",
       "      <th></th>\n",
       "      <th></th>\n",
       "      <th></th>\n",
       "      <th></th>\n",
       "      <th></th>\n",
       "      <th></th>\n",
       "      <th></th>\n",
       "    </tr>\n",
       "  </thead>\n",
       "  <tbody>\n",
       "    <tr>\n",
       "      <th>-0.676</th>\n",
       "      <td>98.68</td>\n",
       "      <td>0.2250</td>\n",
       "      <td>0</td>\n",
       "      <td>0.024812</td>\n",
       "      <td>0.000</td>\n",
       "      <td>1.802</td>\n",
       "      <td>28.75</td>\n",
       "      <td>-87.997</td>\n",
       "      <td>101.946</td>\n",
       "      <td>234.311</td>\n",
       "      <td>...</td>\n",
       "      <td>3036.178</td>\n",
       "      <td>0.000</td>\n",
       "      <td>1.4396</td>\n",
       "      <td>2.8974</td>\n",
       "      <td>4.9341</td>\n",
       "      <td>4.4127</td>\n",
       "      <td>3.2552</td>\n",
       "      <td>0.1441</td>\n",
       "      <td>1.4396</td>\n",
       "      <td>False</td>\n",
       "    </tr>\n",
       "    <tr>\n",
       "      <th>-0.683</th>\n",
       "      <td>98.68</td>\n",
       "      <td>0.2250</td>\n",
       "      <td>0</td>\n",
       "      <td>0.024843</td>\n",
       "      <td>-0.169</td>\n",
       "      <td>1.802</td>\n",
       "      <td>28.75</td>\n",
       "      <td>-87.997</td>\n",
       "      <td>101.947</td>\n",
       "      <td>234.213</td>\n",
       "      <td>...</td>\n",
       "      <td>3036.156</td>\n",
       "      <td>0.042</td>\n",
       "      <td>1.4396</td>\n",
       "      <td>2.8962</td>\n",
       "      <td>4.9341</td>\n",
       "      <td>4.4127</td>\n",
       "      <td>3.2552</td>\n",
       "      <td>0.1441</td>\n",
       "      <td>1.4396</td>\n",
       "      <td>False</td>\n",
       "    </tr>\n",
       "    <tr>\n",
       "      <th>-0.676</th>\n",
       "      <td>98.68</td>\n",
       "      <td>0.2250</td>\n",
       "      <td>0</td>\n",
       "      <td>0.024862</td>\n",
       "      <td>0.169</td>\n",
       "      <td>1.802</td>\n",
       "      <td>28.75</td>\n",
       "      <td>-87.997</td>\n",
       "      <td>101.947</td>\n",
       "      <td>234.359</td>\n",
       "      <td>...</td>\n",
       "      <td>3036.140</td>\n",
       "      <td>0.083</td>\n",
       "      <td>1.4396</td>\n",
       "      <td>2.8974</td>\n",
       "      <td>4.9341</td>\n",
       "      <td>4.4127</td>\n",
       "      <td>3.2552</td>\n",
       "      <td>0.1441</td>\n",
       "      <td>1.4396</td>\n",
       "      <td>False</td>\n",
       "    </tr>\n",
       "    <tr>\n",
       "      <th>-0.683</th>\n",
       "      <td>98.68</td>\n",
       "      <td>0.2239</td>\n",
       "      <td>0</td>\n",
       "      <td>0.024890</td>\n",
       "      <td>-0.169</td>\n",
       "      <td>1.802</td>\n",
       "      <td>28.75</td>\n",
       "      <td>-87.997</td>\n",
       "      <td>101.948</td>\n",
       "      <td>234.261</td>\n",
       "      <td>...</td>\n",
       "      <td>3036.121</td>\n",
       "      <td>0.125</td>\n",
       "      <td>1.4396</td>\n",
       "      <td>2.8962</td>\n",
       "      <td>4.9341</td>\n",
       "      <td>4.4139</td>\n",
       "      <td>3.2527</td>\n",
       "      <td>0.1441</td>\n",
       "      <td>1.4396</td>\n",
       "      <td>False</td>\n",
       "    </tr>\n",
       "    <tr>\n",
       "      <th>-0.676</th>\n",
       "      <td>98.68</td>\n",
       "      <td>0.2239</td>\n",
       "      <td>0</td>\n",
       "      <td>0.024896</td>\n",
       "      <td>0.169</td>\n",
       "      <td>1.802</td>\n",
       "      <td>28.75</td>\n",
       "      <td>-87.997</td>\n",
       "      <td>101.949</td>\n",
       "      <td>234.271</td>\n",
       "      <td>...</td>\n",
       "      <td>3036.104</td>\n",
       "      <td>0.167</td>\n",
       "      <td>1.4396</td>\n",
       "      <td>2.8962</td>\n",
       "      <td>4.9341</td>\n",
       "      <td>4.4139</td>\n",
       "      <td>3.2540</td>\n",
       "      <td>0.1441</td>\n",
       "      <td>1.4396</td>\n",
       "      <td>False</td>\n",
       "    </tr>\n",
       "  </tbody>\n",
       "</table>\n",
       "<p>5 rows × 29 columns</p>\n",
       "</div>"
      ],
      "text/plain": [
       "                  altM     bat  bpos     c0S/m  dz/dtM  wetCDOM  latitude  \\\n",
       "Pressure [dbar]                                                             \n",
       "-0.676           98.68  0.2250     0  0.024812   0.000    1.802     28.75   \n",
       "-0.683           98.68  0.2250     0  0.024843  -0.169    1.802     28.75   \n",
       "-0.676           98.68  0.2250     0  0.024862   0.169    1.802     28.75   \n",
       "-0.683           98.68  0.2239     0  0.024890  -0.169    1.802     28.75   \n",
       "-0.676           98.68  0.2239     0  0.024896   0.169    1.802     28.75   \n",
       "\n",
       "                 longitude  sbeox0Mm/Kg  sbeox1Mm/Kg  ...       tsa  timeS  \\\n",
       "Pressure [dbar]                                       ...                    \n",
       "-0.676             -87.997      101.946      234.311  ...  3036.178  0.000   \n",
       "-0.683             -87.997      101.947      234.213  ...  3036.156  0.042   \n",
       "-0.676             -87.997      101.947      234.359  ...  3036.140  0.083   \n",
       "-0.683             -87.997      101.948      234.261  ...  3036.121  0.125   \n",
       "-0.676             -87.997      101.949      234.271  ...  3036.104  0.167   \n",
       "\n",
       "                     v0      v1      v2      v3      v4      v5  sbeox0V  \\\n",
       "Pressure [dbar]                                                            \n",
       "-0.676           1.4396  2.8974  4.9341  4.4127  3.2552  0.1441   1.4396   \n",
       "-0.683           1.4396  2.8962  4.9341  4.4127  3.2552  0.1441   1.4396   \n",
       "-0.676           1.4396  2.8974  4.9341  4.4127  3.2552  0.1441   1.4396   \n",
       "-0.683           1.4396  2.8962  4.9341  4.4139  3.2527  0.1441   1.4396   \n",
       "-0.676           1.4396  2.8962  4.9341  4.4139  3.2540  0.1441   1.4396   \n",
       "\n",
       "                  flag  \n",
       "Pressure [dbar]         \n",
       "-0.676           False  \n",
       "-0.683           False  \n",
       "-0.676           False  \n",
       "-0.683           False  \n",
       "-0.676           False  \n",
       "\n",
       "[5 rows x 29 columns]"
      ]
     },
     "execution_count": 1,
     "metadata": {},
     "output_type": "execute_result"
    }
   ],
   "source": [
    "from pathlib import Path\n",
    "import pandas as pd\n",
    "import ctd\n",
    "\n",
    "\n",
    "path = Path('..', 'tests', 'data', 'CTD')\n",
    "fname = path.joinpath('g01l06s01.cnv.gz')\n",
    "\n",
    "cast = ctd.from_cnv(fname)\n",
    "downcast, upcast = cast.split()\n",
    "\n",
    "downcast.head()"
   ]
  },
  {
   "cell_type": "code",
   "execution_count": 2,
   "metadata": {},
   "outputs": [
    {
     "data": {
      "image/png": "[encoded data removed]",
      "text/plain": [
       "<Figure size 432x288 with 1 Axes>"
      ]
     },
     "metadata": {
      "needs_background": "light"
     },
     "output_type": "display_data"
    }
   ],
   "source": [
    "%matplotlib inline\n",
    "\n",
    "ax = downcast['t090C'].plot_cast()"
   ]
  },
  {
   "cell_type": "code",
   "execution_count": 3,
   "metadata": {},
   "outputs": [
    {
     "data": {
      "text/plain": [
       "dict_keys(['header', 'config', 'names', 'skiprows', 'time', 'lon', 'lat', 'name'])"
      ]
     },
     "execution_count": 3,
     "metadata": {},
     "output_type": "execute_result"
    }
   ],
   "source": [
    "cast._metadata.keys()"
   ]
  },
  {
   "cell_type": "code",
   "execution_count": 4,
   "metadata": {},
   "outputs": [
    {
     "data": {
      "text/plain": [
       "0.0    28.585335\n",
       "1.0    28.563243\n",
       "2.0    28.535306\n",
       "3.0    28.492339\n",
       "4.0    28.428314\n",
       "Name: t090C, dtype: float64"
      ]
     },
     "execution_count": 4,
     "metadata": {},
     "output_type": "execute_result"
    }
   ],
   "source": [
    "down, up = cast.split()\n",
    "\n",
    "temp = down['t090C']\n",
    "\n",
    "temp.plot_cast(ax=ax)\n",
    "temp = temp.remove_above_water()\\\n",
    "           .despike(n1=2, n2=20, block=100)\\\n",
    "           .lp_filter()\\\n",
    "           .press_check()\\\n",
    "           .interpolate() \\\n",
    "           .bindata(delta=1)\\\n",
    "           .smooth(window_len=21, window='hanning')\n",
    "\n",
    "temp.head()"
   ]
  },
  {
   "cell_type": "code",
   "execution_count": 5,
   "metadata": {},
   "outputs": [
    {
     "data": {
      "image/png": "[encoded data removed]",
      "text/plain": [
       "<Figure size 396x432 with 1 Axes>"
      ]
     },
     "metadata": {
      "needs_background": "light"
     },
     "output_type": "display_data"
    }
   ],
   "source": [
    "import matplotlib.pyplot as plt\n",
    "\n",
    "fig, ax = plt.subplots(figsize=(5.5, 6))\n",
    "\n",
    "temp.plot_cast()\n",
    "ax.set_ylabel('Pressure (dbar)')\n",
    "ax.set_xlabel(u'Temperature (°C)');"
   ]
  }
 ],
 "metadata": {
  "kernelspec": {
   "display_name": "Python 3",
   "language": "python",
   "name": "python3"
  },
  "language_info": {
   "codemirror_mode": {
    "name": "ipython",
    "version": 3
   },
   "file_extension": ".py",
   "mimetype": "text/x-python",
   "name": "python",
   "nbconvert_exporter": "python",
   "pygments_lexer": "ipython3",
   "version": "3.7.1"
  }
 },
 "nbformat": 4,
 "nbformat_minor": 2
}
